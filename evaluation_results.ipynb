{
 "cells": [
  {
   "cell_type": "code",
   "execution_count": 1,
   "id": "9766d49f",
   "metadata": {},
   "outputs": [],
   "source": [
    "import os\n",
    "import os.path as osp\n",
    "import collections as C\n",
    "import json"
   ]
  },
  {
   "cell_type": "code",
   "execution_count": 2,
   "id": "1e22f626",
   "metadata": {},
   "outputs": [],
   "source": [
    "benchmarks = ['formal_math500', 'minif2f_solving', 'putnam_solving']\n",
    "benchmark_lengths = [387, 375, 324]\n",
    "metrics = ['solved', 'proven', 'ne_submitted']\n",
    "\n",
    "results_root = './baseline_results/'\n",
    "\n",
    "results_all = C.defaultdict(    # Paradigm\n",
    "    lambda : C.defaultdict(              # Model\n",
    "        dict                    # Benchmark\n",
    "    )\n",
    ")"
   ]
  },
  {
   "cell_type": "code",
   "execution_count": 3,
   "id": "f6445a69",
   "metadata": {},
   "outputs": [],
   "source": [
    "for paradigm in os.listdir(results_root):\n",
    "    for model in os.listdir(osp.join(results_root, paradigm)):\n",
    "        exp_dir = osp.join(results_root, paradigm, model)\n",
    "        for (benchmark, benchmark_l) in zip(benchmarks, benchmark_lengths):\n",
    "            result = dict()\n",
    "            with open(osp.join(exp_dir, f'solving.{benchmark}.jsonl'), 'r') as f:\n",
    "                solving_results = [json.loads(l) for l in f.readlines()]\n",
    "            n_solved = len([\n",
    "                s for s in solving_results if len(s.get('submission', '')) > 0 and s['eq_proof'] is not None\n",
    "            ])\n",
    "            n_submitted = len([\n",
    "                s for s in solving_results if len(s.get('submission', '')) > 0\n",
    "            ])\n",
    "            result['solved'] = n_solved / benchmark_l\n",
    "            result['ne_submitted'] = (n_submitted- n_solved) / benchmark_l\n",
    "            if osp.exists(osp.join(exp_dir, f'proving.{benchmark}.jsonl')):\n",
    "                with open(osp.join(exp_dir, f'proving.{benchmark}.jsonl'), 'r') as f:\n",
    "                    proving_results = [json.loads(l) for l in f.readlines()]\n",
    "                    result['proven'] = len([\n",
    "                        s for s in proving_results if s['search_result']['success']\n",
    "                    ]) / benchmark_l\n",
    "            results_all[paradigm][model][benchmark] = result"
   ]
  },
  {
   "cell_type": "code",
   "execution_count": 4,
   "id": "0291aa28",
   "metadata": {},
   "outputs": [
    {
     "name": "stdout",
     "output_type": "stream",
     "text": [
      "benchmark\tparadigm\tmodel\tsolved\tproven\tne_submitted\t\n",
      "formal_math500\twhole_proof_generation\ttheoremllama\t0.16020671834625322\t0.04392764857881137\t0.15503875968992248\t\n",
      "formal_math500\twhole_proof_generation\tdeepseek-prover-v1.5\t0.2222222222222222\t0.46511627906976744\t0.14470284237726097\t\n",
      "formal_math500\tproof_search\tleanstar\t0.2351421188630491\t0.43410852713178294\t0.20930232558139536\t\n",
      "formal_math500\tproof_search\tinternlm2.5-step-prover\t0.23772609819121446\t0.4754521963824289\t0.1937984496124031\t\n",
      "formal_math500\tprompting_methods\ticl\t0.13695090439276486\t\t0.0\t\n",
      "formal_math500\tprompting_methods\thybrid_cot\t0.15503875968992248\t\t0.0103359173126615\t\n",
      "minif2f_solving\twhole_proof_generation\ttheoremllama\t0.13066666666666665\t0.07733333333333334\t0.088\t\n",
      "minif2f_solving\twhole_proof_generation\tdeepseek-prover-v1.5\t0.224\t0.536\t0.10933333333333334\t\n",
      "minif2f_solving\tproof_search\tleanstar\t0.24266666666666667\t0.49333333333333335\t0.144\t\n",
      "minif2f_solving\tproof_search\tinternlm2.5-step-prover\t0.27466666666666667\t0.5066666666666667\t0.136\t\n",
      "minif2f_solving\tprompting_methods\ticl\t0.21866666666666668\t\t0.0\t\n",
      "minif2f_solving\tprompting_methods\thybrid_cot\t0.216\t\t0.0\t\n",
      "putnam_solving\twhole_proof_generation\ttheoremllama\t0.0\t0.0030864197530864196\t0.16666666666666666\t\n",
      "putnam_solving\twhole_proof_generation\tdeepseek-prover-v1.5\t0.0030864197530864196\t0.015432098765432098\t0.2222222222222222\t\n",
      "putnam_solving\tproof_search\tleanstar\t0.0\t0.009259259259259259\t0.4104938271604938\t\n",
      "putnam_solving\tproof_search\tinternlm2.5-step-prover\t0.0\t0.015432098765432098\t0.2808641975308642\t\n",
      "putnam_solving\tprompting_methods\ticl\t0.0\t\t0.0\t\n",
      "putnam_solving\tprompting_methods\thybrid_cot\t0.0\t\t0.0030864197530864196\t\n"
     ]
    }
   ],
   "source": [
    "for k in ['benchmark', 'paradigm', 'model'] + metrics:\n",
    "    print(k, end='\\t')\n",
    "print()\n",
    "\n",
    "for benchmark in benchmarks:\n",
    "    for paradigm, results_by_models in results_all.items():\n",
    "        for model, results_by_benchmarks in results_by_models.items():\n",
    "            result = results_by_benchmarks[benchmark]\n",
    "            print(benchmark, paradigm, model, sep='\\t', end='\\t')\n",
    "            for m in metrics:\n",
    "                print(result.get(m, ''), end='\\t')\n",
    "            print()"
   ]
  }
 ],
 "metadata": {
  "kernelspec": {
   "display_name": "PyTorch-2.1.0",
   "language": "python",
   "name": "python3"
  },
  "language_info": {
   "codemirror_mode": {
    "name": "ipython",
    "version": 3
   },
   "file_extension": ".py",
   "mimetype": "text/x-python",
   "name": "python",
   "nbconvert_exporter": "python",
   "pygments_lexer": "ipython3",
   "version": "3.9.10"
  }
 },
 "nbformat": 4,
 "nbformat_minor": 5
}
